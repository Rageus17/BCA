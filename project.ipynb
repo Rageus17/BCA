{
 "cells": [
  {
   "cell_type": "code",
   "execution_count": 2,
   "id": "ab69c54c",
   "metadata": {},
   "outputs": [],
   "source": [
    "import pandas as pd\n",
    "import yfinance as yf\n",
    "from pandas_datareader import data as pdr\n",
    "import numpy as np"
   ]
  },
  {
   "cell_type": "code",
   "execution_count": 4,
   "id": "68f443ab",
   "metadata": {},
   "outputs": [
    {
     "name": "stdout",
     "output_type": "stream",
     "text": [
      "[*********************100%***********************]  1 of 1 completed\n"
     ]
    }
   ],
   "source": [
    "yf.pdr_override()\n",
    "\n",
    "df = pdr.get_data_yahoo(\"BBCA.JK\")"
   ]
  },
  {
   "cell_type": "code",
   "execution_count": 81,
   "id": "2355946d",
   "metadata": {
    "scrolled": true
   },
   "outputs": [
    {
     "name": "stdout",
     "output_type": "stream",
     "text": [
      "[*********************100%***********************]  1 of 1 completed\n"
     ]
    }
   ],
   "source": [
    "ex_rate = pdr.get_data_yahoo(\"IDR=X\")"
   ]
  },
  {
   "cell_type": "code",
   "execution_count": 18,
   "id": "1a922149",
   "metadata": {},
   "outputs": [
    {
     "name": "stderr",
     "output_type": "stream",
     "text": [
      "C:\\Users\\User\\AppData\\Local\\Temp\\ipykernel_15836\\3269526451.py:2: SettingWithCopyWarning: \n",
      "A value is trying to be set on a copy of a slice from a DataFrame.\n",
      "Try using .loc[row_indexer,col_indexer] = value instead\n",
      "\n",
      "See the caveats in the documentation: https://pandas.pydata.org/pandas-docs/stable/user_guide/indexing.html#returning-a-view-versus-a-copy\n",
      "  df['Return'] = np.log(df.Close)-np.log(df.Close).shift(1)\n"
     ]
    }
   ],
   "source": [
    "df = df.loc[\"2018-1-1\":]\n",
    "df['Return'] = np.log(df.Close)-np.log(df.Close).shift(1)"
   ]
  },
  {
   "cell_type": "code",
   "execution_count": 27,
   "id": "a070517d",
   "metadata": {},
   "outputs": [],
   "source": [
    "state_price = [\"start\"]\n",
    "for i in range(len(df)-1):\n",
    "    if (df.Close.iloc[i]<df.Close.iloc[i+1]):\n",
    "        state_price.append('Close Naik')\n",
    "    elif (df.Close.iloc[i]==df.Close.iloc[i+1]):\n",
    "        state_price.append('Close Sama')\n",
    "        \n",
    "    elif (df.Close.iloc[i]>df.Close.iloc[i+1]):\n",
    "        state_price.append('Close Turun')"
   ]
  },
  {
   "cell_type": "code",
   "execution_count": 94,
   "id": "8f8cdd16",
   "metadata": {},
   "outputs": [],
   "source": [
    "df['State'] = state_price\n",
    "index_cond1 = df.loc[df.State ==\"Close Turun\"].index\n",
    "tmrw_cond1 = []\n",
    "for i in range(len(index_cond1)-1):\n",
    "    for j in range(len(df)-1):\n",
    "        if index_cond1[i] == df.index[j]:\n",
    "            tmrw_cond1.append(df.index[j+1])"
   ]
  },
  {
   "cell_type": "code",
   "execution_count": 99,
   "id": "1ced5b1a",
   "metadata": {},
   "outputs": [],
   "source": [
    "buy = df.loc[tmrw_cond1].Open\n",
    "average_price = np.mean(buy)"
   ]
  },
  {
   "cell_type": "code",
   "execution_count": 100,
   "id": "157ec5a8",
   "metadata": {
    "scrolled": true
   },
   "outputs": [
    {
     "name": "stdout",
     "output_type": "stream",
     "text": [
      "0.322079584968577\n"
     ]
    }
   ],
   "source": [
    "return_buyeverydrop = (df.Close[-1] - average_price) / average_price\n",
    "print(return_buyeverydrop)"
   ]
  },
  {
   "cell_type": "code",
   "execution_count": 101,
   "id": "c497bcc0",
   "metadata": {
    "scrolled": true
   },
   "outputs": [
    {
     "data": {
      "text/plain": [
       "0.23744848364676316"
      ]
     },
     "execution_count": 101,
     "metadata": {},
     "output_type": "execute_result"
    }
   ],
   "source": [
    "fx_rate = ex_rate.loc[tmrw_cond1].Open\n",
    "buy_dollar = buy / fx_rate\n",
    "mean_dollar = np.mean(buy_dollar)\n",
    "return_buyeverydrop_dollar = (df.Close[-1]/ex_rate.Close[-1] - mean_dollar) / mean_dollar\n",
    "return_buyeverydrop_dollar"
   ]
  },
  {
   "cell_type": "markdown",
   "id": "bb47ea73",
   "metadata": {},
   "source": [
    "Return with rupiah compared with dollar (32% in IDR and 23% in USD) everytime we buy BBCA whenever the Close price drop"
   ]
  },
  {
   "cell_type": "code",
   "execution_count": 49,
   "id": "bd9ec6cb",
   "metadata": {},
   "outputs": [
    {
     "name": "stdout",
     "output_type": "stream",
     "text": [
      "[*********************100%***********************]  1 of 1 completed\n"
     ]
    }
   ],
   "source": [
    "#buy bbca every month\n",
    "df2 = pdr.get_data_yahoo(\"BBCA.JK\",interval=\"1mo\")"
   ]
  },
  {
   "cell_type": "code",
   "execution_count": 102,
   "id": "34e3a840",
   "metadata": {
    "scrolled": true
   },
   "outputs": [
    {
     "data": {
      "text/plain": [
       "6721.944444444444"
      ]
     },
     "execution_count": 102,
     "metadata": {},
     "output_type": "execute_result"
    }
   ],
   "source": [
    "buy2_close = df2.loc['2018-1-1':].Close.values\n",
    "np.mean(buy2_close)"
   ]
  },
  {
   "cell_type": "code",
   "execution_count": 103,
   "id": "760e28fc",
   "metadata": {},
   "outputs": [
    {
     "data": {
      "text/plain": [
       "6676.458333333333"
      ]
     },
     "execution_count": 103,
     "metadata": {},
     "output_type": "execute_result"
    }
   ],
   "source": [
    "buy2_open = df2.loc['2018-1-1':].Open.values\n",
    "np.mean(buy2_open)"
   ]
  },
  {
   "cell_type": "code",
   "execution_count": 105,
   "id": "ad39ab5c",
   "metadata": {},
   "outputs": [
    {
     "name": "stdout",
     "output_type": "stream",
     "text": [
      "0.30170668209430146\n"
     ]
    }
   ],
   "source": [
    "return_buyeverydrop = (df.Close[-1] - np.mean(buy2_close)) / np.mean(buy2_close)\n",
    "print(return_buyeverydrop)"
   ]
  },
  {
   "cell_type": "code",
   "execution_count": 106,
   "id": "0731f686",
   "metadata": {},
   "outputs": [
    {
     "name": "stdout",
     "output_type": "stream",
     "text": [
      "0.3105750928324025\n"
     ]
    }
   ],
   "source": [
    "return_buyeverydrop = (df.Close[-1] - np.mean(buy2_open)) / np.mean(buy2_open)\n",
    "print(return_buyeverydrop)"
   ]
  }
 ],
 "metadata": {
  "kernelspec": {
   "display_name": "Python 3 (ipykernel)",
   "language": "python",
   "name": "python3"
  },
  "language_info": {
   "codemirror_mode": {
    "name": "ipython",
    "version": 3
   },
   "file_extension": ".py",
   "mimetype": "text/x-python",
   "name": "python",
   "nbconvert_exporter": "python",
   "pygments_lexer": "ipython3",
   "version": "3.11.4"
  }
 },
 "nbformat": 4,
 "nbformat_minor": 5
}
